{
 "cells": [
  {
   "cell_type": "code",
   "execution_count": 5,
   "metadata": {},
   "outputs": [
    {
     "name": "stdout",
     "output_type": "stream",
     "text": [
      "{'label': 'Var1_val1_Var2_val_1', 'value': 'Var1_val1_Var2_val_1'}\n",
      "{'label': 'Var1_val2_Var2_val_3', 'value': 'Var1_val2_Var2_val_3'}\n",
      "{'label': 'Var1_val2_Var2_val_4', 'value': 'Var1_val2_Var2_val_4'}\n",
      "{'label': 'Var1_val3_Var2_val_1', 'value': 'Var1_val3_Var2_val_1'}\n",
      "{'label': 'Var1_val3_Var2_val_2', 'value': 'Var1_val3_Var2_val_2'}\n",
      "{'label': 'Var1_val4_Var2_val_3', 'value': 'Var1_val4_Var2_val_3'}\n",
      "{'label': 'Var1_val4_Var2_val_4', 'value': 'Var1_val4_Var2_val_4'}\n",
      "{'label': 'Var1_val5_Var2_val_5', 'value': 'Var1_val5_Var2_val_5'}\n",
      "{'label': 'Var1_val5_Var2_val_6', 'value': 'Var1_val5_Var2_val_6'}\n",
      "{'label': 'Var1_val6_Var2_val_7', 'value': 'Var1_val6_Var2_val_7'}\n",
      "{'label': 'Var1_val6_Var2_val_8', 'value': 'Var1_val6_Var2_val_8'}\n"
     ]
    }
   ],
   "source": [
    "import pandas as pd\n",
    "\n",
    "df = pd.read_csv(\"df.csv\")\n",
    "\n",
    "temp_df = df[['Var1', 'Var2']]\n",
    "temp_df = temp_df.drop_duplicates()\n",
    "data_dict = {}\n",
    "\n",
    "for ele in temp_df.values.tolist():\n",
    "    if ele[0] in data_dict:\n",
    "        data_dict[ele[0]].add(ele[1])\n",
    "    else:\n",
    "        data_dict[ele[0]] = set()\n",
    "        data_dict[ele[0]].add(ele[1])\n",
    "\n",
    "radioItems_lst = []\n",
    "\n",
    "for key in data_dict:\n",
    "    for value in data_dict[key]:\n",
    "        radioItems_lst.append({\"label\":f\"{key}_{value}\", \"value\":f\"{key}_{value}\"})\n",
    "\n",
    "for item in radioItems_lst:\n",
    "    print(item)\n",
    "\n",
    "\n"
   ]
  },
  {
   "cell_type": "code",
   "execution_count": null,
   "metadata": {},
   "outputs": [],
   "source": []
  }
 ],
 "metadata": {
  "kernelspec": {
   "display_name": "myenv",
   "language": "python",
   "name": "python3"
  },
  "language_info": {
   "codemirror_mode": {
    "name": "ipython",
    "version": 3
   },
   "file_extension": ".py",
   "mimetype": "text/x-python",
   "name": "python",
   "nbconvert_exporter": "python",
   "pygments_lexer": "ipython3",
   "version": "3.11.4"
  }
 },
 "nbformat": 4,
 "nbformat_minor": 2
}
