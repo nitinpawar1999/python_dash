{
 "cells": [
  {
   "cell_type": "code",
   "execution_count": 4,
   "metadata": {},
   "outputs": [
    {
     "name": "stdout",
     "output_type": "stream",
     "text": [
      "[P('Var1_val1'), Button(id='Var1_val1|&|Var2_val_1'), P('Var1_val2'), Button(id='Var1_val2|&|Var2_val_4'), Button(id='Var1_val2|&|Var2_val_3'), P('Var1_val3'), Button(id='Var1_val3|&|Var2_val_2'), Button(id='Var1_val3|&|Var2_val_1'), P('Var1_val4'), Button(id='Var1_val4|&|Var2_val_4'), Button(id='Var1_val4|&|Var2_val_3'), P('Var1_val5'), Button(id='Var1_val5|&|Var2_val_6'), Button(id='Var1_val5|&|Var2_val_5'), P('Var1_val6'), Button(id='Var1_val6|&|Var2_val_8'), Button(id='Var1_val6|&|Var2_val_7')]\n"
     ]
    }
   ],
   "source": [
    "import dash\n",
    "import dash_bootstrap_components as dbc\n",
    "from dash import Input, Output, dcc, html, dash_table\n",
    "import pandas as pd\n",
    "import plotly.graph_objs as go\n",
    "\n",
    "df = pd.read_csv(\"df.csv\")\n",
    "\n",
    "temp_df = df[['Var1', 'Var2']]\n",
    "temp_df = temp_df.drop_duplicates()\n",
    "data_dict = {}\n",
    "\n",
    "for ele in temp_df.values.tolist():\n",
    "    if ele[0] in data_dict:\n",
    "        data_dict[ele[0]].add(ele[1])\n",
    "    else:\n",
    "        data_dict[ele[0]] = set()\n",
    "        data_dict[ele[0]].add(ele[1])\n",
    "\n",
    "button_group = []\n",
    "\n",
    "for key in data_dict:\n",
    "    for value in data_dict[key]:\n",
    "        button_group.append(dbc.Button(id=f\"{key}|&|{value}\"))\n",
    "\n",
    "print(button_group)"
   ]
  },
  {
   "cell_type": "code",
   "execution_count": null,
   "metadata": {},
   "outputs": [],
   "source": []
  }
 ],
 "metadata": {
  "kernelspec": {
   "display_name": "myenv",
   "language": "python",
   "name": "python3"
  },
  "language_info": {
   "codemirror_mode": {
    "name": "ipython",
    "version": 3
   },
   "file_extension": ".py",
   "mimetype": "text/x-python",
   "name": "python",
   "nbconvert_exporter": "python",
   "pygments_lexer": "ipython3",
   "version": "3.11.4"
  }
 },
 "nbformat": 4,
 "nbformat_minor": 2
}
